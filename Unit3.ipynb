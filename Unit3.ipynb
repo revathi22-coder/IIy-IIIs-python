{
  "nbformat": 4,
  "nbformat_minor": 0,
  "metadata": {
    "colab": {
      "provenance": [],
      "authorship_tag": "ABX9TyOiSiHVRcVYbT1RyfBeZaDE",
      "include_colab_link": true
    },
    "kernelspec": {
      "name": "python3",
      "display_name": "Python 3"
    },
    "language_info": {
      "name": "python"
    }
  },
  "cells": [
    {
      "cell_type": "markdown",
      "metadata": {
        "id": "view-in-github",
        "colab_type": "text"
      },
      "source": [
        "<a href=\"https://colab.research.google.com/github/revathi22-coder/IIy-IIIs-python/blob/main/Unit3.ipynb\" target=\"_parent\"><img src=\"https://colab.research.google.com/assets/colab-badge.svg\" alt=\"Open In Colab\"/></a>"
      ]
    },
    {
      "cell_type": "code",
      "execution_count": 1,
      "metadata": {
        "colab": {
          "base_uri": "https://localhost:8080/"
        },
        "id": "wtV_Rf4ka7SU",
        "outputId": "fbc02bee-c157-48ae-96c3-aae60d685a0f"
      },
      "outputs": [
        {
          "output_type": "stream",
          "name": "stdout",
          "text": [
            "Array 1: [10 20 30]\n",
            "Array 2: [1 2 3]\n",
            "Result (Array1 + Array2): [11 22 33]\n"
          ]
        }
      ],
      "source": [
        "import numpy as np\n",
        "\n",
        "array1 = np.array([10, 20, 30])\n",
        "array2 = np.array([1, 2, 3])\n",
        "\n",
        "result = np.add(array1, array2)\n",
        "\n",
        "print(\"Array 1:\", array1)\n",
        "print(\"Array 2:\", array2)\n",
        "print(\"Result (Array1 + Array2):\", result)"
      ]
    },
    {
      "cell_type": "code",
      "source": [
        "import numpy as np\n",
        "\n",
        "array = np.array([1, 2, 3, 4, 5])\n",
        "if np.all(array):\n",
        "    print(\"None of the elements in the array is zero.\")\n",
        "else:\n",
        "    print(\"There is at least one zero element in the array.\")"
      ],
      "metadata": {
        "colab": {
          "base_uri": "https://localhost:8080/"
        },
        "id": "rGFLB-Fdbcra",
        "outputId": "82ef7d7e-97d8-4990-fe24-5e47e6a00eb0"
      },
      "execution_count": 2,
      "outputs": [
        {
          "output_type": "stream",
          "name": "stdout",
          "text": [
            "None of the elements in the array is zero.\n"
          ]
        }
      ]
    },
    {
      "cell_type": "code",
      "source": [
        "import numpy as np\n",
        "\n",
        "a = np.array([1, 5, 3, 9])\n",
        "b = np.array([2, 5, 1, 10])\n",
        "\n",
        "print(\"a > b:\", np.greater(a, b))\n",
        "print(\"a >= b:\", np.greater_equal(a, b))\n",
        "print(\"a < b:\", np.less(a, b))\n",
        "print(\"a <= b:\", np.less_equal(a, b))\n",
        "print(\"a == b:\", np.equal(a, b))\n",
        "print(\"a equal to b within tolerance:\", np.allclose(a, b))"
      ],
      "metadata": {
        "colab": {
          "base_uri": "https://localhost:8080/"
        },
        "id": "Q2yWZb-WbnXD",
        "outputId": "06d4fd31-a853-485a-b3cc-dbae2ee487b7"
      },
      "execution_count": 3,
      "outputs": [
        {
          "output_type": "stream",
          "name": "stdout",
          "text": [
            "a > b: [False False  True False]\n",
            "a >= b: [False  True  True False]\n",
            "a < b: [ True False False  True]\n",
            "a <= b: [ True  True False  True]\n",
            "a == b: [False  True False False]\n",
            "a equal to b within tolerance: False\n"
          ]
        }
      ]
    },
    {
      "cell_type": "code",
      "source": [
        "import numpy as np\n",
        "arr = np.array([3, 7, 1, 9, 5, 3, 7, 1, 8])\n",
        "num = 5\n",
        "less_than_num = arr[arr < num]\n",
        "greater_than_num = arr[arr > num]\n",
        "print(\"Numbers less than\", num, \":\", less_than_num)\n",
        "print(\"Numbers greater than\", num, \":\", greater_than_num)"
      ],
      "metadata": {
        "colab": {
          "base_uri": "https://localhost:8080/"
        },
        "id": "haFq09zybsRG",
        "outputId": "e71ef9b8-585c-431d-826b-ff5a91f5ec4e"
      },
      "execution_count": 4,
      "outputs": [
        {
          "output_type": "stream",
          "name": "stdout",
          "text": [
            "Numbers less than 5 : [3 1 3 1]\n",
            "Numbers greater than 5 : [7 9 7 8]\n"
          ]
        }
      ]
    },
    {
      "cell_type": "code",
      "source": [
        "import numpy as np\n",
        "# Define array\n",
        "arr = np.array([3, 7, 1, 9, 5, 3, 7, 1, 8])\n",
        "# Find indices of maximum and minimum numbers\n",
        "max_index = np.argmax(arr)\n",
        "min_index = np.argmin(arr)\n",
        "print(\"Index of maximum number:\", max_index)\n",
        "print(\"Index of minimum number:\", min_index)\n",
        "# Additional NumPy operations\n",
        "print(\"Maximum value:\", np.max(arr))\n",
        "print(\"Minimum value:\", np.min(arr))\n",
        "print(\"Unique elements:\", np.unique(arr))\n",
        "print(\"Bincount of elements:\", np.bincount(arr))\n",
        "print(\"Array representation using repr():\", repr(arr))"
      ],
      "metadata": {
        "colab": {
          "base_uri": "https://localhost:8080/"
        },
        "id": "vgViel6jb1iN",
        "outputId": "bb18ca27-60ed-42ab-98fe-22f3a5163d06"
      },
      "execution_count": 5,
      "outputs": [
        {
          "output_type": "stream",
          "name": "stdout",
          "text": [
            "Index of maximum number: 3\n",
            "Index of minimum number: 2\n",
            "Maximum value: 9\n",
            "Minimum value: 1\n",
            "Unique elements: [1 3 5 7 8 9]\n",
            "Bincount of elements: [0 2 0 2 0 1 0 2 1 1]\n",
            "Array representation using repr(): array([3, 7, 1, 9, 5, 3, 7, 1, 8])\n"
          ]
        }
      ]
    }
  ]
}