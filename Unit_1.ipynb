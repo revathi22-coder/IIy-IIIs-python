{
  "nbformat": 4,
  "nbformat_minor": 0,
  "metadata": {
    "colab": {
      "provenance": [],
      "authorship_tag": "ABX9TyMUfOKVn+P1dJ2J1vORLg39",
      "include_colab_link": true
    },
    "kernelspec": {
      "name": "python3",
      "display_name": "Python 3"
    },
    "language_info": {
      "name": "python"
    }
  },
  "cells": [
    {
      "cell_type": "markdown",
      "metadata": {
        "id": "view-in-github",
        "colab_type": "text"
      },
      "source": [
        "<a href=\"https://colab.research.google.com/github/revathi22-coder/IIy-IIIs-python/blob/main/Unit_1.ipynb\" target=\"_parent\"><img src=\"https://colab.research.google.com/assets/colab-badge.svg\" alt=\"Open In Colab\"/></a>"
      ]
    },
    {
      "cell_type": "code",
      "execution_count": 1,
      "metadata": {
        "colab": {
          "base_uri": "https://localhost:8080/"
        },
        "id": "HyT5Hd5BDX9E",
        "outputId": "16d277ee-9fb5-4938-f429-8eec13e71f75"
      },
      "outputs": [
        {
          "output_type": "stream",
          "name": "stdout",
          "text": [
            "Enter weight in kilograms: 30\n",
            "30.0 kilograms is equal to 96.00 pounds.\n"
          ]
        }
      ],
      "source": [
        "# Conversion factor\n",
        "KG_TO_POUNDS = 3.2\n",
        "# Ask the user for weight in kilograms\n",
        "kg = float(input(\"Enter weight in kilograms: \"))\n",
        "# Convert to pounds\n",
        "pounds = kg * KG_TO_POUNDS\n",
        "print(f\"{kg} kilograms is equal to {pounds:.2f} pounds.\")"
      ]
    },
    {
      "cell_type": "code",
      "source": [
        "for n in range(8,90,3):\n",
        "    print(n,end=\",\")"
      ],
      "metadata": {
        "colab": {
          "base_uri": "https://localhost:8080/"
        },
        "id": "LhBoEMtGDtNN",
        "outputId": "e1d3e389-29f0-4418-de27-91d963e8eb40"
      },
      "execution_count": 2,
      "outputs": [
        {
          "output_type": "stream",
          "name": "stdout",
          "text": [
            "8,11,14,17,20,23,26,29,32,35,38,41,44,47,50,53,56,59,62,65,68,71,74,77,80,83,86,89,"
          ]
        }
      ]
    },
    {
      "cell_type": "code",
      "source": [
        "text=\"zari\"\n",
        "char_list=list(text)\n",
        "print(char_list)"
      ],
      "metadata": {
        "colab": {
          "base_uri": "https://localhost:8080/"
        },
        "id": "LXn7JgGHD1tT",
        "outputId": "9f54872b-bb51-45ed-ba3e-a972e9dba5fb"
      },
      "execution_count": 3,
      "outputs": [
        {
          "output_type": "stream",
          "name": "stdout",
          "text": [
            "['z', 'a', 'r', 'i']\n"
          ]
        }
      ]
    },
    {
      "cell_type": "code",
      "source": [
        "def fibonacci(n):\n",
        "    if n <= 0:\n",
        "        return \"Invalid input. n must be a positive integer.\"\n",
        "    elif n == 1:\n",
        "        return 0\n",
        "    elif n == 2:\n",
        "        return 1\n",
        "    else:\n",
        "        a, b = 0, 1\n",
        "        for _ in range(2, n):\n",
        "            a, b = b, a + b\n",
        "        return b\n",
        "n = int(input(\"Enter the position (n) of the Fibonacci number: \"))\n",
        "result = fibonacci(n)\n",
        "print(f\"The {n}th Fibonacci number is:\", result)"
      ],
      "metadata": {
        "colab": {
          "base_uri": "https://localhost:8080/"
        },
        "id": "oUMo23GeD7L4",
        "outputId": "ff80ef7e-b304-4a72-a45a-7d3138a40c2d"
      },
      "execution_count": 4,
      "outputs": [
        {
          "output_type": "stream",
          "name": "stdout",
          "text": [
            "Enter the position (n) of the Fibonacci number: 6\n",
            "The 6th Fibonacci number is: 5\n"
          ]
        }
      ]
    }
  ]
}